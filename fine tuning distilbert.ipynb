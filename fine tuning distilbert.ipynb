{
 "cells": [
  {
   "cell_type": "code",
   "execution_count": 1,
   "id": "4de1c634-9690-43e8-ad28-3a517902c93b",
   "metadata": {},
   "outputs": [],
   "source": [
    "# python -m venv myenv\n",
    "# source myenv/bin/activate  # On Windows: myenv\\Scripts\\activate"
   ]
  },
  {
   "cell_type": "code",
   "execution_count": null,
   "id": "3fed8619-378a-4fa5-9e5d-4dacddd234c1",
   "metadata": {},
   "outputs": [],
   "source": [
    "# # pip install lamini datasets pandas jsonlines (do it on cmd just putting here to remember)\n",
    "# python -m pip install numpy --only-binary=:all:\n",
    "# python -m pip install --upgrade pip setuptools wheel\n",
    "# pip install lamini datasets pandas jsonlines\n"
   ]
  },
  {
   "cell_type": "code",
   "execution_count": 2,
   "id": "dae5374e-1c6d-44f1-872c-02f837f95ae7",
   "metadata": {},
   "outputs": [
    {
     "name": "stdout",
     "output_type": "stream",
     "text": [
      "3.13.2 (tags/v3.13.2:4f8bb39, Feb  4 2025, 15:23:48) [MSC v.1942 64 bit (AMD64)]\n",
      "C:\\Users\\Noor\\AppData\\Local\\Programs\\Python\\Python313\\python.exe\n"
     ]
    }
   ],
   "source": [
    "import sys\n",
    "print(sys.version)\n",
    "print(sys.executable)"
   ]
  },
  {
   "cell_type": "code",
   "execution_count": 3,
   "id": "d3e76072-76d1-42a9-9a00-4ab5ce1422e2",
   "metadata": {
    "scrolled": true
   },
   "outputs": [
    {
     "name": "stdout",
     "output_type": "stream",
     "text": [
      "Collecting lamini\n",
      "  Using cached lamini-3.2.17-35-py3-none-any.whl.metadata (1.7 kB)\n",
      "Collecting datasets\n",
      "  Using cached datasets-3.4.1-py3-none-any.whl.metadata (19 kB)\n",
      "Requirement already satisfied: pandas in c:\\users\\noor\\appdata\\local\\programs\\python\\python313\\lib\\site-packages (2.2.3)\n",
      "Collecting jsonlines\n",
      "  Using cached jsonlines-4.0.0-py3-none-any.whl.metadata (1.6 kB)\n",
      "Collecting lamini-configuration[yaml] (from lamini)\n",
      "  Using cached lamini_configuration-0.8.3-py3-none-any.whl.metadata (11 kB)\n",
      "Requirement already satisfied: requests in c:\\users\\noor\\appdata\\local\\programs\\python\\python313\\lib\\site-packages (from lamini) (2.32.3)\n",
      "Requirement already satisfied: tqdm in c:\\users\\noor\\appdata\\local\\programs\\python\\python313\\lib\\site-packages (from lamini) (4.67.1)\n",
      "Collecting numpy<2.0.0 (from lamini)\n",
      "  Using cached numpy-1.26.4.tar.gz (15.8 MB)\n",
      "  Installing build dependencies: started\n",
      "  Installing build dependencies: finished with status 'done'\n",
      "  Getting requirements to build wheel: started\n",
      "  Getting requirements to build wheel: finished with status 'done'\n",
      "  Installing backend dependencies: started\n",
      "  Installing backend dependencies: finished with status 'done'\n",
      "  Preparing metadata (pyproject.toml): started\n",
      "  Preparing metadata (pyproject.toml): finished with status 'error'\n"
     ]
    },
    {
     "name": "stderr",
     "output_type": "stream",
     "text": [
      "  error: subprocess-exited-with-error\n",
      "  \n",
      "  Preparing metadata (pyproject.toml) did not run successfully.\n",
      "  exit code: 1\n",
      "  \n",
      "  [21 lines of output]\n",
      "  + C:\\Users\\Noor\\AppData\\Local\\Programs\\Python\\Python313\\python.exe C:\\Users\\Noor\\AppData\\Local\\Temp\\pip-install-jt4s93z4\\numpy_17c1cc321a8f4b42b20795a4ce7da684\\vendored-meson\\meson\\meson.py setup C:\\Users\\Noor\\AppData\\Local\\Temp\\pip-install-jt4s93z4\\numpy_17c1cc321a8f4b42b20795a4ce7da684 C:\\Users\\Noor\\AppData\\Local\\Temp\\pip-install-jt4s93z4\\numpy_17c1cc321a8f4b42b20795a4ce7da684\\.mesonpy-hjvlcch7 -Dbuildtype=release -Db_ndebug=if-release -Db_vscrt=md --native-file=C:\\Users\\Noor\\AppData\\Local\\Temp\\pip-install-jt4s93z4\\numpy_17c1cc321a8f4b42b20795a4ce7da684\\.mesonpy-hjvlcch7\\meson-python-native-file.ini\n",
      "  The Meson build system\n",
      "  Version: 1.2.99\n",
      "  Source dir: C:\\Users\\Noor\\AppData\\Local\\Temp\\pip-install-jt4s93z4\\numpy_17c1cc321a8f4b42b20795a4ce7da684\n",
      "  Build dir: C:\\Users\\Noor\\AppData\\Local\\Temp\\pip-install-jt4s93z4\\numpy_17c1cc321a8f4b42b20795a4ce7da684\\.mesonpy-hjvlcch7\n",
      "  Build type: native build\n",
      "  Project name: NumPy\n",
      "  Project version: 1.26.4\n",
      "  WARNING: Failed to activate VS environment: Could not parse vswhere.exe output\n",
      "  \n",
      "  ..\\meson.build:1:0: ERROR: Unknown compiler(s): [['icl'], ['cl'], ['cc'], ['gcc'], ['clang'], ['clang-cl'], ['pgcc']]\n",
      "  The following exception(s) were encountered:\n",
      "  Running `icl \"\"` gave \"[WinError 2] The system cannot find the file specified\"\n",
      "  Running `cl /?` gave \"[WinError 2] The system cannot find the file specified\"\n",
      "  Running `cc --version` gave \"[WinError 2] The system cannot find the file specified\"\n",
      "  Running `gcc --version` gave \"[WinError 2] The system cannot find the file specified\"\n",
      "  Running `clang --version` gave \"[WinError 2] The system cannot find the file specified\"\n",
      "  Running `clang-cl /?` gave \"[WinError 2] The system cannot find the file specified\"\n",
      "  Running `pgcc --version` gave \"[WinError 2] The system cannot find the file specified\"\n",
      "  \n",
      "  A full log can be found at C:\\Users\\Noor\\AppData\\Local\\Temp\\pip-install-jt4s93z4\\numpy_17c1cc321a8f4b42b20795a4ce7da684\\.mesonpy-hjvlcch7\\meson-logs\\meson-log.txt\n",
      "  [end of output]\n",
      "  \n",
      "  note: This error originates from a subprocess, and is likely not a problem with pip.\n",
      "error: metadata-generation-failed\n",
      "\n",
      "Encountered error while generating package metadata.\n",
      "\n",
      "See above for output.\n",
      "\n",
      "note: This is an issue with the package mentioned above, not pip.\n",
      "hint: See above for details.\n"
     ]
    }
   ],
   "source": [
    "!pip install lamini datasets pandas jsonlines"
   ]
  },
  {
   "cell_type": "code",
   "execution_count": 4,
   "id": "fcee041c-9790-4ce6-94a2-7d176d5402da",
   "metadata": {},
   "outputs": [
    {
     "name": "stdout",
     "output_type": "stream",
     "text": [
      "Requirement already satisfied: numpy in c:\\users\\noor\\appdata\\local\\programs\\python\\python313\\lib\\site-packages (2.2.3)\n",
      "Note: you may need to restart the kernel to use updated packages.\n"
     ]
    }
   ],
   "source": [
    "pip install numpy --only-binary :all:\n"
   ]
  },
  {
   "cell_type": "code",
   "execution_count": 3,
   "id": "79de672c-06ff-429f-92f5-55c3960b8a39",
   "metadata": {},
   "outputs": [
    {
     "ename": "ModuleNotFoundError",
     "evalue": "No module named 'lamini'",
     "output_type": "error",
     "traceback": [
      "\u001b[31m---------------------------------------------------------------------------\u001b[39m",
      "\u001b[31mModuleNotFoundError\u001b[39m                       Traceback (most recent call last)",
      "\u001b[36mCell\u001b[39m\u001b[36m \u001b[39m\u001b[32mIn[3]\u001b[39m\u001b[32m, line 1\u001b[39m\n\u001b[32m----> \u001b[39m\u001b[32m1\u001b[39m \u001b[38;5;28;01mimport\u001b[39;00m\u001b[38;5;250m \u001b[39m\u001b[34;01mlamini\u001b[39;00m,\u001b[38;5;250m \u001b[39m\u001b[34;01mdatasets\u001b[39;00m,\u001b[38;5;250m \u001b[39m\u001b[34;01mpandas\u001b[39;00m,\u001b[38;5;250m \u001b[39m\u001b[34;01mjsonlines\u001b[39;00m\n\u001b[32m      2\u001b[39m \u001b[38;5;28mprint\u001b[39m(\u001b[33m\"\u001b[39m\u001b[33mAll libraries installed successfully!\u001b[39m\u001b[33m\"\u001b[39m)\n",
      "\u001b[31mModuleNotFoundError\u001b[39m: No module named 'lamini'"
     ]
    }
   ],
   "source": [
    "import lamini, datasets, pandas, jsonlines\n",
    "print(\"All libraries installed successfully!\")"
   ]
  },
  {
   "cell_type": "code",
   "execution_count": null,
   "id": "77d3e997-95ef-4545-8600-cb478bf95d01",
   "metadata": {},
   "outputs": [],
   "source": []
  }
 ],
 "metadata": {
  "kernelspec": {
   "display_name": "Python 3 (ipykernel)",
   "language": "python",
   "name": "python3"
  },
  "language_info": {
   "codemirror_mode": {
    "name": "ipython",
    "version": 3
   },
   "file_extension": ".py",
   "mimetype": "text/x-python",
   "name": "python",
   "nbconvert_exporter": "python",
   "pygments_lexer": "ipython3",
   "version": "3.13.2"
  }
 },
 "nbformat": 4,
 "nbformat_minor": 5
}
